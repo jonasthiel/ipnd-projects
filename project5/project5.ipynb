{
 "cells": [
  {
   "cell_type": "markdown",
   "metadata": {},
   "source": [
    "\"\"\"\n",
    "Created on Thu May 07 2020\n",
    "\n",
    "@author: jonasthiel\n",
    "\"\"\"\n",
    "\n",
    "# Investigation of TMDb Movie Dataset"
   ]
  },
  {
   "cell_type": "markdown",
   "metadata": {},
   "source": [
    "## Table of Contents"
   ]
  },
  {
   "cell_type": "markdown",
   "metadata": {},
   "source": [
    "[Introduction](#introduction)\n",
    "<a href='#introduction'></a>\n",
    "<br />\n",
    "[Data Wrangling](#data_wrangling)\n",
    "<a href='#data_wrangling'></a>\n",
    "<br />\n",
    "[Explatory Data Analysis](#data_analysis)\n",
    "<a href='#data_analysis'></a>\n",
    "<br />\n",
    "[Conclusion](#conclusion)\n",
    "<a href='#conclusion'></a>"
   ]
  },
  {
   "cell_type": "markdown",
   "metadata": {},
   "source": [
    "<a id='introduction'></a>\n",
    "## Introduction"
   ]
  },
  {
   "cell_type": "markdown",
   "metadata": {},
   "source": [
    "This dataset contains information about 10,000 movies collected from The Movie Database (TMDb), including user rating and revenue. It is provided by Udacity and is a cleaned version from the original data on Kaggle (https://www.kaggle.com/tmdb/tmdb-movie-metadata).\n",
    "\n",
    "In this report, the following questions are answered:\n",
    "1. Which movie created the most revenue and which created the least?\n",
    "2. Which movie has the best average vote and which has the worst?\n",
    "3. Which movie created the highest profit?\n",
    "4. Do top rated movies usually generate large revenue?\n",
    "5. Do higher budget movies usually generate large revenue?\n",
    "6. Who is the most popular director based on average movie vote?\n",
    "7. Who is the most popular director based on average revenue?\n",
    "8. Which director has directed the most movies?\n",
    "9. Which movie has the highest popularity and which has the lowest?\n",
    "10. Do younger movies tend to have a higher popularity?"
   ]
  },
  {
   "cell_type": "markdown",
   "metadata": {},
   "source": [
    "### Importing Libraries"
   ]
  },
  {
   "cell_type": "code",
   "execution_count": 1,
   "metadata": {},
   "outputs": [],
   "source": [
    "import pandas as pd\n",
    "import numpy as np\n",
    "import seaborn as sns"
   ]
  },
  {
   "cell_type": "markdown",
   "metadata": {},
   "source": [
    "<a id='data_wrangling'></a>\n",
    "## Data Wrangling"
   ]
  },
  {
   "cell_type": "markdown",
   "metadata": {},
   "source": [
    "### Loading Data from CSV"
   ]
  },
  {
   "cell_type": "code",
   "execution_count": 2,
   "metadata": {
    "scrolled": true
   },
   "outputs": [],
   "source": [
    "def get_movie_data():\n",
    "    \"\"\"\n",
    "    Loads CSV file which is saved in the same location as this Jupyter notebook\n",
    "    \"\"\"\n",
    "    movieDataRaw = pd.read_csv(\"tmdb-movies.csv\")\n",
    "    return movieDataRaw"
   ]
  },
  {
   "cell_type": "markdown",
   "metadata": {},
   "source": [
    "### Preparing Data"
   ]
  },
  {
   "cell_type": "code",
   "execution_count": 3,
   "metadata": {},
   "outputs": [
    {
     "data": {
      "text/html": [
       "<div>\n",
       "<style scoped>\n",
       "    .dataframe tbody tr th:only-of-type {\n",
       "        vertical-align: middle;\n",
       "    }\n",
       "\n",
       "    .dataframe tbody tr th {\n",
       "        vertical-align: top;\n",
       "    }\n",
       "\n",
       "    .dataframe thead th {\n",
       "        text-align: right;\n",
       "    }\n",
       "</style>\n",
       "<table border=\"1\" class=\"dataframe\">\n",
       "  <thead>\n",
       "    <tr style=\"text-align: right;\">\n",
       "      <th></th>\n",
       "      <th>id</th>\n",
       "      <th>imdb_id</th>\n",
       "      <th>popularity</th>\n",
       "      <th>budget</th>\n",
       "      <th>revenue</th>\n",
       "      <th>original_title</th>\n",
       "      <th>cast</th>\n",
       "      <th>homepage</th>\n",
       "      <th>director</th>\n",
       "      <th>tagline</th>\n",
       "      <th>...</th>\n",
       "      <th>overview</th>\n",
       "      <th>runtime</th>\n",
       "      <th>genres</th>\n",
       "      <th>production_companies</th>\n",
       "      <th>release_date</th>\n",
       "      <th>vote_count</th>\n",
       "      <th>vote_average</th>\n",
       "      <th>release_year</th>\n",
       "      <th>budget_adj</th>\n",
       "      <th>revenue_adj</th>\n",
       "    </tr>\n",
       "  </thead>\n",
       "  <tbody>\n",
       "    <tr>\n",
       "      <th>0</th>\n",
       "      <td>135397</td>\n",
       "      <td>tt0369610</td>\n",
       "      <td>32.985763</td>\n",
       "      <td>150000000</td>\n",
       "      <td>1513528810</td>\n",
       "      <td>Jurassic World</td>\n",
       "      <td>Chris Pratt|Bryce Dallas Howard|Irrfan Khan|Vi...</td>\n",
       "      <td>http://www.jurassicworld.com/</td>\n",
       "      <td>Colin Trevorrow</td>\n",
       "      <td>The park is open.</td>\n",
       "      <td>...</td>\n",
       "      <td>Twenty-two years after the events of Jurassic ...</td>\n",
       "      <td>124</td>\n",
       "      <td>Action|Adventure|Science Fiction|Thriller</td>\n",
       "      <td>Universal Studios|Amblin Entertainment|Legenda...</td>\n",
       "      <td>6/9/15</td>\n",
       "      <td>5562</td>\n",
       "      <td>6.5</td>\n",
       "      <td>2015</td>\n",
       "      <td>1.379999e+08</td>\n",
       "      <td>1.392446e+09</td>\n",
       "    </tr>\n",
       "    <tr>\n",
       "      <th>1</th>\n",
       "      <td>76341</td>\n",
       "      <td>tt1392190</td>\n",
       "      <td>28.419936</td>\n",
       "      <td>150000000</td>\n",
       "      <td>378436354</td>\n",
       "      <td>Mad Max: Fury Road</td>\n",
       "      <td>Tom Hardy|Charlize Theron|Hugh Keays-Byrne|Nic...</td>\n",
       "      <td>http://www.madmaxmovie.com/</td>\n",
       "      <td>George Miller</td>\n",
       "      <td>What a Lovely Day.</td>\n",
       "      <td>...</td>\n",
       "      <td>An apocalyptic story set in the furthest reach...</td>\n",
       "      <td>120</td>\n",
       "      <td>Action|Adventure|Science Fiction|Thriller</td>\n",
       "      <td>Village Roadshow Pictures|Kennedy Miller Produ...</td>\n",
       "      <td>5/13/15</td>\n",
       "      <td>6185</td>\n",
       "      <td>7.1</td>\n",
       "      <td>2015</td>\n",
       "      <td>1.379999e+08</td>\n",
       "      <td>3.481613e+08</td>\n",
       "    </tr>\n",
       "    <tr>\n",
       "      <th>2</th>\n",
       "      <td>262500</td>\n",
       "      <td>tt2908446</td>\n",
       "      <td>13.112507</td>\n",
       "      <td>110000000</td>\n",
       "      <td>295238201</td>\n",
       "      <td>Insurgent</td>\n",
       "      <td>Shailene Woodley|Theo James|Kate Winslet|Ansel...</td>\n",
       "      <td>http://www.thedivergentseries.movie/#insurgent</td>\n",
       "      <td>Robert Schwentke</td>\n",
       "      <td>One Choice Can Destroy You</td>\n",
       "      <td>...</td>\n",
       "      <td>Beatrice Prior must confront her inner demons ...</td>\n",
       "      <td>119</td>\n",
       "      <td>Adventure|Science Fiction|Thriller</td>\n",
       "      <td>Summit Entertainment|Mandeville Films|Red Wago...</td>\n",
       "      <td>3/18/15</td>\n",
       "      <td>2480</td>\n",
       "      <td>6.3</td>\n",
       "      <td>2015</td>\n",
       "      <td>1.012000e+08</td>\n",
       "      <td>2.716190e+08</td>\n",
       "    </tr>\n",
       "    <tr>\n",
       "      <th>3</th>\n",
       "      <td>140607</td>\n",
       "      <td>tt2488496</td>\n",
       "      <td>11.173104</td>\n",
       "      <td>200000000</td>\n",
       "      <td>2068178225</td>\n",
       "      <td>Star Wars: The Force Awakens</td>\n",
       "      <td>Harrison Ford|Mark Hamill|Carrie Fisher|Adam D...</td>\n",
       "      <td>http://www.starwars.com/films/star-wars-episod...</td>\n",
       "      <td>J.J. Abrams</td>\n",
       "      <td>Every generation has a story.</td>\n",
       "      <td>...</td>\n",
       "      <td>Thirty years after defeating the Galactic Empi...</td>\n",
       "      <td>136</td>\n",
       "      <td>Action|Adventure|Science Fiction|Fantasy</td>\n",
       "      <td>Lucasfilm|Truenorth Productions|Bad Robot</td>\n",
       "      <td>12/15/15</td>\n",
       "      <td>5292</td>\n",
       "      <td>7.5</td>\n",
       "      <td>2015</td>\n",
       "      <td>1.839999e+08</td>\n",
       "      <td>1.902723e+09</td>\n",
       "    </tr>\n",
       "    <tr>\n",
       "      <th>4</th>\n",
       "      <td>168259</td>\n",
       "      <td>tt2820852</td>\n",
       "      <td>9.335014</td>\n",
       "      <td>190000000</td>\n",
       "      <td>1506249360</td>\n",
       "      <td>Furious 7</td>\n",
       "      <td>Vin Diesel|Paul Walker|Jason Statham|Michelle ...</td>\n",
       "      <td>http://www.furious7.com/</td>\n",
       "      <td>James Wan</td>\n",
       "      <td>Vengeance Hits Home</td>\n",
       "      <td>...</td>\n",
       "      <td>Deckard Shaw seeks revenge against Dominic Tor...</td>\n",
       "      <td>137</td>\n",
       "      <td>Action|Crime|Thriller</td>\n",
       "      <td>Universal Pictures|Original Film|Media Rights ...</td>\n",
       "      <td>4/1/15</td>\n",
       "      <td>2947</td>\n",
       "      <td>7.3</td>\n",
       "      <td>2015</td>\n",
       "      <td>1.747999e+08</td>\n",
       "      <td>1.385749e+09</td>\n",
       "    </tr>\n",
       "  </tbody>\n",
       "</table>\n",
       "<p>5 rows × 21 columns</p>\n",
       "</div>"
      ],
      "text/plain": [
       "       id    imdb_id  popularity     budget     revenue  \\\n",
       "0  135397  tt0369610   32.985763  150000000  1513528810   \n",
       "1   76341  tt1392190   28.419936  150000000   378436354   \n",
       "2  262500  tt2908446   13.112507  110000000   295238201   \n",
       "3  140607  tt2488496   11.173104  200000000  2068178225   \n",
       "4  168259  tt2820852    9.335014  190000000  1506249360   \n",
       "\n",
       "                 original_title  \\\n",
       "0                Jurassic World   \n",
       "1            Mad Max: Fury Road   \n",
       "2                     Insurgent   \n",
       "3  Star Wars: The Force Awakens   \n",
       "4                     Furious 7   \n",
       "\n",
       "                                                cast  \\\n",
       "0  Chris Pratt|Bryce Dallas Howard|Irrfan Khan|Vi...   \n",
       "1  Tom Hardy|Charlize Theron|Hugh Keays-Byrne|Nic...   \n",
       "2  Shailene Woodley|Theo James|Kate Winslet|Ansel...   \n",
       "3  Harrison Ford|Mark Hamill|Carrie Fisher|Adam D...   \n",
       "4  Vin Diesel|Paul Walker|Jason Statham|Michelle ...   \n",
       "\n",
       "                                            homepage          director  \\\n",
       "0                      http://www.jurassicworld.com/   Colin Trevorrow   \n",
       "1                        http://www.madmaxmovie.com/     George Miller   \n",
       "2     http://www.thedivergentseries.movie/#insurgent  Robert Schwentke   \n",
       "3  http://www.starwars.com/films/star-wars-episod...       J.J. Abrams   \n",
       "4                           http://www.furious7.com/         James Wan   \n",
       "\n",
       "                         tagline  ...  \\\n",
       "0              The park is open.  ...   \n",
       "1             What a Lovely Day.  ...   \n",
       "2     One Choice Can Destroy You  ...   \n",
       "3  Every generation has a story.  ...   \n",
       "4            Vengeance Hits Home  ...   \n",
       "\n",
       "                                            overview runtime  \\\n",
       "0  Twenty-two years after the events of Jurassic ...     124   \n",
       "1  An apocalyptic story set in the furthest reach...     120   \n",
       "2  Beatrice Prior must confront her inner demons ...     119   \n",
       "3  Thirty years after defeating the Galactic Empi...     136   \n",
       "4  Deckard Shaw seeks revenge against Dominic Tor...     137   \n",
       "\n",
       "                                      genres  \\\n",
       "0  Action|Adventure|Science Fiction|Thriller   \n",
       "1  Action|Adventure|Science Fiction|Thriller   \n",
       "2         Adventure|Science Fiction|Thriller   \n",
       "3   Action|Adventure|Science Fiction|Fantasy   \n",
       "4                      Action|Crime|Thriller   \n",
       "\n",
       "                                production_companies release_date vote_count  \\\n",
       "0  Universal Studios|Amblin Entertainment|Legenda...       6/9/15       5562   \n",
       "1  Village Roadshow Pictures|Kennedy Miller Produ...      5/13/15       6185   \n",
       "2  Summit Entertainment|Mandeville Films|Red Wago...      3/18/15       2480   \n",
       "3          Lucasfilm|Truenorth Productions|Bad Robot     12/15/15       5292   \n",
       "4  Universal Pictures|Original Film|Media Rights ...       4/1/15       2947   \n",
       "\n",
       "   vote_average  release_year    budget_adj   revenue_adj  \n",
       "0           6.5          2015  1.379999e+08  1.392446e+09  \n",
       "1           7.1          2015  1.379999e+08  3.481613e+08  \n",
       "2           6.3          2015  1.012000e+08  2.716190e+08  \n",
       "3           7.5          2015  1.839999e+08  1.902723e+09  \n",
       "4           7.3          2015  1.747999e+08  1.385749e+09  \n",
       "\n",
       "[5 rows x 21 columns]"
      ]
     },
     "execution_count": 3,
     "metadata": {},
     "output_type": "execute_result"
    }
   ],
   "source": [
    "# Movie data gets loaded to a variable\n",
    "movieDataRaw = get_movie_data()\n",
    "\n",
    "# Preview of dataset by displaying the first five rows\n",
    "movieDataRaw.head()"
   ]
  },
  {
   "cell_type": "code",
   "execution_count": 4,
   "metadata": {
    "scrolled": true
   },
   "outputs": [
    {
     "name": "stdout",
     "output_type": "stream",
     "text": [
      "<class 'pandas.core.frame.DataFrame'>\n",
      "RangeIndex: 10866 entries, 0 to 10865\n",
      "Data columns (total 7 columns):\n",
      "popularity        10866 non-null float64\n",
      "original_title    10866 non-null object\n",
      "director          10822 non-null object\n",
      "vote_average      10866 non-null float64\n",
      "release_year      10866 non-null int64\n",
      "budget_adj        10866 non-null float64\n",
      "revenue_adj       10866 non-null float64\n",
      "dtypes: float64(4), int64(1), object(2)\n",
      "memory usage: 594.4+ KB\n"
     ]
    }
   ],
   "source": [
    "# Creation of new data frame with all columns needed to address the questions\n",
    "movieData = movieDataRaw[['popularity', 'original_title', 'director', 'vote_average', 'release_year', 'budget_adj', 'revenue_adj']]\n",
    "\n",
    "# Summary of index dtype, column dtypes, and non-null values of the data frame used for the analysis\n",
    "movieData.info()\n",
    "\n",
    "# Number of movies pre data cleaning\n",
    "numberMoviesPreCleaning = len(movieData)\n",
    "\n",
    "# Exclution of movies for which one of the numeric data fields is zero\n",
    "movieData = movieData[(movieData[['popularity','vote_average', 'release_year', 'budget_adj', 'revenue_adj']] != 0).all(axis=1)]\n",
    "\n",
    "# Number of movies post data cleaning\n",
    "numberMoviesPostCleaning = len(movieData)\n",
    "\n",
    "# Number of excluded movies\n",
    "numberExcludedMovies = numberMoviesPreCleaning - numberMoviesPostCleaning"
   ]
  },
  {
   "cell_type": "markdown",
   "metadata": {},
   "source": [
    "Summary of data cleansing:\n",
    "* Selecting only data fields needed to address the previously posted questions, i.e. \"popularity\", \"original_title\", \"director\", \"vote_average\", \"release_year\", \"budget_adj\", and \"revenue_adj\"\n",
    "* Deleting movies from data set if for one or more data fields no data exists, i.e. in total 7011 movies are excluded from the analysis"
   ]
  },
  {
   "cell_type": "markdown",
   "metadata": {},
   "source": [
    "<a id='data_analysis'></a>\n",
    "## Explatory Data Analysis"
   ]
  },
  {
   "cell_type": "markdown",
   "metadata": {},
   "source": [
    "#### 1. Which movie created the most revenue and which created the least?"
   ]
  },
  {
   "cell_type": "code",
   "execution_count": 5,
   "metadata": {},
   "outputs": [
    {
     "name": "stdout",
     "output_type": "stream",
     "text": [
      "The movie with the most revenue created is: Avatar\n",
      "The movie with the least revenue created is: Shattered Glass\n"
     ]
    }
   ],
   "source": [
    "mostRevenue = movieData.loc[movieData['revenue_adj'].idxmax()]['original_title']\n",
    "leastRevenue = movieData.loc[movieData['revenue_adj'].idxmin()]['original_title']\n",
    "\n",
    "print('The movie with the most revenue created is:', mostRevenue)\n",
    "print('The movie with the least revenue created is:', leastRevenue)"
   ]
  },
  {
   "cell_type": "markdown",
   "metadata": {},
   "source": [
    "#### 2. Which movie has the best average vote and which has the worst?"
   ]
  },
  {
   "cell_type": "code",
   "execution_count": 6,
   "metadata": {},
   "outputs": [
    {
     "name": "stdout",
     "output_type": "stream",
     "text": [
      "The movie with the best average vote is: The Shawshank Redemption\n",
      "The movie with the worst average vote is: Foodfight!\n"
     ]
    }
   ],
   "source": [
    "bestVote = movieData.loc[movieData['vote_average'].idxmax()]['original_title']\n",
    "worstVote = movieData.loc[movieData['vote_average'].idxmin()]['original_title']\n",
    "\n",
    "print('The movie with the best average vote is:', bestVote)\n",
    "print('The movie with the worst average vote is:', worstVote)"
   ]
  },
  {
   "cell_type": "markdown",
   "metadata": {},
   "source": [
    "#### 3. Which movie created the highest profit and which created the lowest?"
   ]
  },
  {
   "cell_type": "code",
   "execution_count": 7,
   "metadata": {},
   "outputs": [
    {
     "name": "stdout",
     "output_type": "stream",
     "text": [
      "The movie with the highest profit is: Star Wars\n",
      "The movie with the lowest profit is: The Warrior's Way\n"
     ]
    }
   ],
   "source": [
    "profit = movieData['revenue_adj'] - movieData['budget_adj']\n",
    "highestProfit = movieData.loc[profit.idxmax()]['original_title']\n",
    "lowestProfit = movieData.loc[profit.idxmin()]['original_title']\n",
    "\n",
    "print('The movie with the highest profit is:', highestProfit)\n",
    "print('The movie with the lowest profit is:', lowestProfit)"
   ]
  },
  {
   "cell_type": "markdown",
   "metadata": {},
   "source": [
    "#### 4. Do top rated movies usually generate large revenue?"
   ]
  },
  {
   "cell_type": "code",
   "execution_count": 8,
   "metadata": {},
   "outputs": [
    {
     "name": "stdout",
     "output_type": "stream",
     "text": [
      "The correlation between the average vote and the adjusted revenue of movies is: 0.26699608474876446\n"
     ]
    },
    {
     "data": {
      "image/png": "[encoded data removed]",
      "text/plain": [
       "<Figure size 432x288 with 1 Axes>"
      ]
     },
     "metadata": {
      "needs_background": "light"
     },
     "output_type": "display_data"
    }
   ],
   "source": [
    "corrVoteRevenue = movieData['vote_average'].corr(movieData['revenue_adj'])\n",
    "\n",
    "print('The correlation between the average vote and the adjusted revenue of movies is:', corrVoteRevenue)\n",
    "\n",
    "sns.regplot(x='vote_average', y='revenue_adj', data=movieData, scatter_kws={'s':1}).set_title('Average Vote and Adjusted Revenue per Movie');"
   ]
  },
  {
   "cell_type": "markdown",
   "metadata": {},
   "source": [
    "The scatter plot \"Average Vote and Adjusted Revenue per Movie\" shows that the bulk of movies has an average vote between 5 and 8 and an adjusted revenue below 500m. The correlation between the average vote and the adjusted revenue of movies is ~0.27 and, therefore, is classified as weak."
   ]
  },
  {
   "cell_type": "markdown",
   "metadata": {},
   "source": [
    "#### 5. Do higher budget movies usually generate large revenue?"
   ]
  },
  {
   "cell_type": "code",
   "execution_count": 9,
   "metadata": {},
   "outputs": [
    {
     "name": "stdout",
     "output_type": "stream",
     "text": [
      "The correlation between the average vote and the adjusted budget of movies is: 0.03691316424360373\n"
     ]
    },
    {
     "data": {
      "image/png": "[encoded data removed]",
      "text/plain": [
       "<Figure size 432x288 with 1 Axes>"
      ]
     },
     "metadata": {
      "needs_background": "light"
     },
     "output_type": "display_data"
    }
   ],
   "source": [
    "corrVoteBudget = movieData['vote_average'].corr(movieData['budget_adj'])\n",
    "\n",
    "print('The correlation between the average vote and the adjusted budget of movies is:', corrVoteBudget)\n",
    "\n",
    "sns.regplot(x='vote_average', y='budget_adj', data=movieData, scatter_kws={'s':1}).set_title('Average Vote and Adjusted Budget per Movie');"
   ]
  },
  {
   "cell_type": "markdown",
   "metadata": {},
   "source": [
    "The scatter plot \"Average Vote and Adjusted Budget per Movie\" shows that the bulk of movies has an average vote between 5 and 8 and an adjusted budget below 100m. The correlation between the average vote and the adjusted revenue of movies is ~0.04 and, therefore, is classified as weak."
   ]
  },
  {
   "cell_type": "markdown",
   "metadata": {},
   "source": [
    "#### 6. Who is the most popular director based on average movie vote?"
   ]
  },
  {
   "cell_type": "code",
   "execution_count": 10,
   "metadata": {},
   "outputs": [
    {
     "name": "stdout",
     "output_type": "stream",
     "text": [
      "The most popular director based on average movie vote is: Damien Chazelle\n"
     ]
    }
   ],
   "source": [
    "directorAverageMovieVote = movieData.groupby('director')['vote_average'].mean()\n",
    "popularDirectorVote = directorAverageMovieVote.sort_values(ascending=False)\n",
    "\n",
    "print('The most popular director based on average movie vote is:', popularDirectorVote.index[0])"
   ]
  },
  {
   "cell_type": "markdown",
   "metadata": {},
   "source": [
    "#### 7. Who is the most popular director based on average revenue?"
   ]
  },
  {
   "cell_type": "code",
   "execution_count": 11,
   "metadata": {},
   "outputs": [
    {
     "name": "stdout",
     "output_type": "stream",
     "text": [
      "The most popular director based on average revenue is: Irwin Winkler\n"
     ]
    }
   ],
   "source": [
    "directorAverageRevenue = movieData.groupby('director')['revenue_adj'].mean()\n",
    "popularDirectorRevenue = directorAverageRevenue.sort_values(ascending=False)\n",
    "\n",
    "print('The most popular director based on average revenue is:', popularDirectorRevenue.index[0])"
   ]
  },
  {
   "cell_type": "markdown",
   "metadata": {},
   "source": [
    "#### 8. Which director has directed the most movies?"
   ]
  },
  {
   "cell_type": "code",
   "execution_count": 12,
   "metadata": {},
   "outputs": [
    {
     "name": "stdout",
     "output_type": "stream",
     "text": [
      "The director with the most movies directed is: Steven Spielberg\n"
     ]
    },
    {
     "data": {
      "image/png": "[encoded data removed]",
      "text/plain": [
       "<Figure size 432x288 with 1 Axes>"
      ]
     },
     "metadata": {
      "needs_background": "light"
     },
     "output_type": "display_data"
    }
   ],
   "source": [
    "directorMovies = movieData.groupby('director')['original_title'].count()\n",
    "\n",
    "print('The director with the most movies directed is:', directorMovies.idxmax())\n",
    "\n",
    "ax = directorMovies.sort_values(ascending=False)[0:10].plot.bar()\n",
    "ax.set_title('Directors with the most movies directed')\n",
    "ax.set_ylabel('# movies');"
   ]
  },
  {
   "cell_type": "markdown",
   "metadata": {},
   "source": [
    "The bar plot \"Directors with the most movies directed\" shows the ten directors with the most movies directed. After Steven Spielberg (27 movies directed), Clint Eastwood (24) and Ridley Scott (21) are the second and third director with the most movies directed."
   ]
  },
  {
   "cell_type": "markdown",
   "metadata": {},
   "source": [
    "#### 9. Which movie has the highest popularity and which has the lowest?"
   ]
  },
  {
   "cell_type": "code",
   "execution_count": 13,
   "metadata": {},
   "outputs": [
    {
     "name": "stdout",
     "output_type": "stream",
     "text": [
      "The movie with the highest popularity is: Jurassic World\n",
      "The movie with the lowest popularity is: Born into Brothels\n"
     ]
    }
   ],
   "source": [
    "highestPopularity = movieData.loc[movieData['popularity'].idxmax()]['original_title']\n",
    "lowestPopularity = movieData.loc[movieData['popularity'].idxmin()]['original_title']\n",
    "\n",
    "print('The movie with the highest popularity is:', highestPopularity)\n",
    "print('The movie with the lowest popularity is:', lowestPopularity)"
   ]
  },
  {
   "cell_type": "markdown",
   "metadata": {},
   "source": [
    "#### 10. Do younger movies tend to have a higher popularity?"
   ]
  },
  {
   "cell_type": "code",
   "execution_count": 14,
   "metadata": {
    "scrolled": false
   },
   "outputs": [
    {
     "name": "stdout",
     "output_type": "stream",
     "text": [
      "The correlation between the popularity and the release year of movies is: 0.1731792982047534\n"
     ]
    },
    {
     "data": {
      "image/png": "[encoded data removed]",
      "text/plain": [
       "<Figure size 432x288 with 1 Axes>"
      ]
     },
     "metadata": {
      "needs_background": "light"
     },
     "output_type": "display_data"
    }
   ],
   "source": [
    "corrPopularityYear = movieData['release_year'].corr(movieData['popularity'])\n",
    "\n",
    "print('The correlation between the popularity and the release year of movies is:', corrPopularityYear)\n",
    "\n",
    "sns.regplot(x='release_year', y='popularity', data=movieData, scatter_kws={'s':1}).set_title('Popularity and Release Year per Movie');"
   ]
  },
  {
   "cell_type": "markdown",
   "metadata": {},
   "source": [
    "The scatter plot \"Popularity and Release Year per Movie\" shows that the correlation between the popularity and the release year of a movie is only weak."
   ]
  },
  {
   "cell_type": "markdown",
   "metadata": {},
   "source": [
    "<a id='conclusion'></a>\n",
    "## Conclusion"
   ]
  },
  {
   "cell_type": "markdown",
   "metadata": {},
   "source": [
    "As the ten questions stated in the beginning of this investigation should be rather viewed individually, the conclusion chapter is fairly straight forward and just lists the respective questions and answers:\n",
    "1. Which movie created the most revenue and which created the least?\n",
    "> \"Avatar\" created the most revenue and \"Shattered Glass\" the least\n",
    "2. Which movie has the best average vote and which has the worst?\n",
    "> \"The Shawshank Redemption\" has the best average vote and \"Foodfight!\" the worst\n",
    "3. Which movie created the highest profit?\n",
    "> \"Star Wars\" created the highest profit and \"The Warrior's Way\" the lowest\n",
    "4. Do top rated movies usually generate large revenue?\n",
    "> Top ratings and large revenues only have a weak correlation (~0.27) for movies\n",
    "5. Do higher budget movies usually generate large revenue?\n",
    "> Average vote and adjusted budget have no linear relationship for movies\n",
    "6. Who is the most popular director based on average movie vote?\n",
    "> \"Damien Chazelle\" is the most popular director based on average movie vote\n",
    "7. Who is the most popular director based on average revenue?\n",
    "> \"Irwin Winkler\" is the most popular director based on average revenue\n",
    "8. Which director has directed the most movies?\n",
    "> \"Steven Spielberg\" directed the most movies\n",
    "9. Which movie has the highest popularity and which has the lowest?\n",
    "> \"Jurassic World\" has the highest popularity and \"Born into Brothels\" the lowest\n",
    "10. Do younger movies tend to have a higher popularity?\n",
    "> Popularity and release year only have a weak correlation (~0.17) for movies\n",
    "\n",
    "With regards to the limitations of this investigation, please find few considerations below:\n",
    "* Analysis is only limited to the provided TMBd movie data\n",
    "* Exclusion of movies with null values could distort the analysis\n",
    "* Calculation method of data field \"popularity\" is not provided"
   ]
  },
  {
   "cell_type": "code",
   "execution_count": null,
   "metadata": {},
   "outputs": [],
   "source": []
  }
 ],
 "metadata": {
  "kernelspec": {
   "display_name": "Python 3",
   "language": "python",
   "name": "python3"
  },
  "language_info": {
   "codemirror_mode": {
    "name": "ipython",
    "version": 3
   },
   "file_extension": ".py",
   "mimetype": "text/x-python",
   "name": "python",
   "nbconvert_exporter": "python",
   "pygments_lexer": "ipython3",
   "version": "3.7.6"
  }
 },
 "nbformat": 4,
 "nbformat_minor": 1
}
